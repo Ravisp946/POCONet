{
 "cells": [
  {
   "cell_type": "markdown",
   "metadata": {},
   "source": [
    "# Drive access\n",
    "---"
   ]
  },
  {
   "cell_type": "code",
   "execution_count": 5,
   "metadata": {},
   "outputs": [
    {
     "name": "stdout",
     "output_type": "stream",
     "text": [
      "Your browser has been opened to visit:\n",
      "\n",
      "    https://accounts.google.com/o/oauth2/auth?client_id=1003652371916-aljjqru0t2u99r3cnru9m69ujodst5bb.apps.googleusercontent.com&redirect_uri=http%3A%2F%2Flocalhost%3A8080%2F&scope=https%3A%2F%2Fwww.googleapis.com%2Fauth%2Fdrive&access_type=offline&response_type=code\n",
      "\n",
      "Authentication successful.\n"
     ]
    }
   ],
   "source": [
    "from pydrive.auth import GoogleAuth\n",
    "from pydrive.drive import GoogleDrive\n",
    "import os\n",
    "\n",
    "g_login = GoogleAuth()\n",
    "g_login.LocalWebserverAuth()\n",
    "drive = GoogleDrive(g_login)"
   ]
  },
  {
   "cell_type": "code",
   "execution_count": 28,
   "metadata": {},
   "outputs": [
    {
     "name": "stderr",
     "output_type": "stream",
     "text": [
      "/home/alvin/anaconda3/lib/python3.6/importlib/_bootstrap.py:219: RuntimeWarning: numpy.dtype size changed, may indicate binary incompatibility. Expected 96, got 88\n",
      "  return f(*args, **kwds)\n",
      "/home/alvin/anaconda3/lib/python3.6/importlib/_bootstrap.py:219: RuntimeWarning: numpy.dtype size changed, may indicate binary incompatibility. Expected 96, got 88\n",
      "  return f(*args, **kwds)\n"
     ]
    }
   ],
   "source": [
    "import xml.etree.ElementTree as ET\n",
    "import pandas as pd\n",
    "\n",
    "class kml2csv:\n",
    "    \"\"\" Enter filename location from currdir\n",
    "    ref : https://gist.github.com/bmcbride/9689580\n",
    "    \"\"\"\n",
    "    def __init__(self,file_name):\n",
    "        self.file_name = file_name\n",
    "        self.csv = None\n",
    "        self.root = None\n",
    "    def isVid(self):\n",
    "        if self.file_name[-7:-4] == \"mp4\":\n",
    "            return True\n",
    "        return False\n",
    "    \n",
    "    def __str__(self):\n",
    "        \"\"\"\n",
    "        Display file name\n",
    "        \"\"\"\n",
    "        return str(self.file_name)\n",
    "    \n",
    "    def extract_loc(self):\n",
    "        ls = []\n",
    "        if self.isVid():\n",
    "            # location extraction from video\n",
    "            for child in self.root.findall('./Document/Placemark/ExtendedData/SchemaData'):\n",
    "\n",
    "                fid = child[0].text\n",
    "                lat = child[1].text\n",
    "                lon = child[2].text\n",
    "                \n",
    "                ls.append((int(fid),float(lat),float(lon)))\n",
    "\n",
    "        else:\n",
    "            # location extraction from image\n",
    "            child = self.root.findall(\"./Document/Placemark/Point/coordinates\")\n",
    "            p = child[0].text.strip().split('\\n')[0].split(\",\")\n",
    "            print(p)\n",
    "            ls.append((0,float(p[1]),float(p[0])))\n",
    "\n",
    "        return pd.DataFrame(ls)  # cnvt to dataframe\n",
    "                \n",
    "    def run(self):\n",
    "        tree = ET.parse(self.file_name)\n",
    "        self.root = tree.getroot()\n",
    "        self.csv = self.extract_loc()\n",
    "        self.csv.columns = [\"id\",\"lat\",\"lon\"]\n",
    "        return self.csv"
   ]
  },
  {
   "cell_type": "code",
   "execution_count": 1,
   "metadata": {},
   "outputs": [
    {
     "name": "stdout",
     "output_type": "stream",
     "text": [
      "Upload Successfull\n"
     ]
    }
   ],
   "source": [
    "# uploading and processing file\n",
    "\n",
    "loc = os.listdir(\"./Pictures\")\n",
    "for i in loc:\n",
    "    if \"kml\" in i:\n",
    "        kml_file = i\n",
    "        \n",
    "    if \"mp4\" in i:\n",
    "        vid_name = i\n",
    "        \n",
    "        \n",
    "        \n",
    "# kml_file = vid_name+\".kml\"\n",
    "\n",
    "kml2csv(kml_file).run().to_csv(vid_name+\".csv\",index = False)\n",
    "\n",
    "file5 = drive.CreateFile({\"parents\": [{\"kind\": \"drive#fileLink\",\"id\": '1t-vTle0eQF9T5_Hw3NkbGPIB7TV9Xpbt' }] ,\n",
    "                                   'title':vid_name})\n",
    "file5.SetContentFile(vid_name)\n",
    "file5.Upload() # Upload the file.\n",
    "\n",
    "file4 = drive.CreateFile({\"parents\": [{\"kind\": \"drive#fileLink\",\"id\": '1t-vTle0eQF9T5_Hw3NkbGPIB7TV9Xpbt' }] ,\n",
    "                                   'title':kml_file})\n",
    "\n",
    "file4.SetContentFile(vid_name+\".csv\")\n",
    "file4.Upload() # Upload the file.\n",
    "\n",
    "\n",
    "print(\"Upload Successfull\")"
   ]
  },
  {
   "cell_type": "code",
   "execution_count": null,
   "metadata": {},
   "outputs": [],
   "source": []
  }
 ],
 "metadata": {
  "kernelspec": {
   "display_name": "Python 3",
   "language": "python",
   "name": "python3"
  },
  "language_info": {
   "codemirror_mode": {
    "name": "ipython",
    "version": 3
   },
   "file_extension": ".py",
   "mimetype": "text/x-python",
   "name": "python",
   "nbconvert_exporter": "python",
   "pygments_lexer": "ipython3",
   "version": "3.6.5"
  }
 },
 "nbformat": 4,
 "nbformat_minor": 2
}
