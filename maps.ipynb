{
 "cells": [
  {
   "cell_type": "code",
   "execution_count": 1,
   "metadata": {},
   "outputs": [],
   "source": [
    "import gmaps\n",
    "import pandas as pd\n",
    "import numpy as np\n",
    "import ipywidgets as widgets\n"
   ]
  },
  {
   "cell_type": "code",
   "execution_count": 2,
   "metadata": {},
   "outputs": [],
   "source": [
    "API_KEY = \"\"\n",
    "gmaps.configure(api_key=API_KEY)"
   ]
  },
  {
   "cell_type": "code",
   "execution_count": 3,
   "metadata": {},
   "outputs": [],
   "source": [
    "def dist(a, b):\n",
    "    return ((a[0] - b[0]) ** 2 + (a[1] - b[1]) ** 2) ** 0.5"
   ]
  },
  {
   "cell_type": "code",
   "execution_count": 4,
   "metadata": {},
   "outputs": [],
   "source": [
    "LocToPath = {}\n",
    "class PotholesVisualizer(object):\n",
    "\n",
    "    def __init__(self, coordinates=None, weights=None):\n",
    "        self._coordinates = coordinates\n",
    "\n",
    "        for i in range(len(weights)):\n",
    "            tup = (coordinates.iloc[i][0], coordinates.iloc[i][1])\n",
    "            LocToPath[tup] = weights.iloc[i][0][11:]\n",
    "        self._figure = gmaps.figure()\n",
    "        self._drawing = gmaps.drawing_layer()\n",
    "        self._drawing.on_new_feature(self._new_feature_callback)\n",
    "        self._figure.add_layer(self._drawing)\n",
    "        \n",
    "        self._heatmap = gmaps.heatmap_layer(coordinates, weights[\"Level\"]) \n",
    "        self._figure.add_layer(self._heatmap)\n",
    "        \n",
    "        self._image_box = widgets.Image(\n",
    "            description='Image: ',\n",
    "            format=\"jpg\",\n",
    "            width=500,\n",
    "            height=600\n",
    "        )\n",
    "        self._container = widgets.VBox([self._figure, self._image_box])\n",
    "        self._container.layout.align_items = \"stretch\"\n",
    "\n",
    "    def _get_closest_location(self, location):\n",
    "        ret = location\n",
    "        close = float(\"infinity\")\n",
    "        for loc in zip(self._coordinates.lat, self._coordinates.lon):\n",
    "#             print(\"-->> loc = \", loc, type(loc[0]))\n",
    "            if dist(location, loc) < close:\n",
    "                close = dist(location, loc)\n",
    "                ret = loc\n",
    "        return ret\n",
    "\n",
    "    def _get_image(self, location):\n",
    "        print(\"-> Pointed at = \", location)\n",
    "        location = self._get_closest_location(location)\n",
    "        path_to_img = \"coordinate_csvs/Pothole.jpg\"\n",
    "        if location not in LocToPath:\n",
    "            return None\n",
    "        path_to_img = \"mapped_images/\" + LocToPath[location]\n",
    "        try:\n",
    "            return open(path_to_img, \"rb\").read()\n",
    "        except:\n",
    "            return None\n",
    "    \n",
    "    def _clear_image_box(self):\n",
    "        self._image_box.value = b''\n",
    "\n",
    "    def _show_image(self, location):\n",
    "        image = self._get_image(location)\n",
    "        if image is None:\n",
    "            self._image_box.value = b''\n",
    "        else:\n",
    "            self._image_box.value = image\n",
    "    \n",
    "    def _new_feature_callback(self, feature):\n",
    "        try:\n",
    "            location = feature.location\n",
    "        except AttributeError:\n",
    "            return # Not a marker\n",
    "\n",
    "        # Clear address box to signify to the user that something is happening\n",
    "        self._clear_image_box()\n",
    "\n",
    "        # Remove all markers other than the one that has just been added.\n",
    "        self._drawing.features = [feature]\n",
    "\n",
    "        # Compute the address and display it\n",
    "        self._show_image(location)\n",
    "\n",
    "    def render(self):\n",
    "        return self._container, self._heatmap\n"
   ]
  },
  {
   "cell_type": "code",
   "execution_count": 5,
   "metadata": {},
   "outputs": [],
   "source": [
    "\n",
    "weights = pd.read_csv(\"images_to_level.csv\")\n",
    "weights.drop([\"Unnamed: 0\"], axis=1, inplace=True)\n",
    "weights = weights[:181]\n",
    "\n",
    "df = pd.read_csv(\"coordinate_csvs/2.csv\")\n",
    "fig, heatmap = PotholesVisualizer(df[[\"lat\", \"lon\"]], weights).render()"
   ]
  },
  {
   "cell_type": "code",
   "execution_count": 9,
   "metadata": {
    "scrolled": false
   },
   "outputs": [
    {
     "data": {
      "application/vnd.jupyter.widget-view+json": {
       "model_id": "59e68b628141465ab7f1d60624cbed1f",
       "version_major": 2,
       "version_minor": 0
      },
      "text/plain": [
       "VBox(children=(Figure(layout=FigureLayout(height='420px')), Image(value=b'\\xff\\xd8\\xff\\xe0\\x00\\x10JFIF\\x00\\x01…"
      ]
     },
     "metadata": {},
     "output_type": "display_data"
    },
    {
     "name": "stdout",
     "output_type": "stream",
     "text": [
      "-> Pointed at =  (29.917502836400736, 78.10603919392497)\n",
      "-> Pointed at =  (29.918451686003436, 78.1057333946228)\n",
      "-> Pointed at =  (29.918451686003436, 78.1057333946228)\n",
      "-> Pointed at =  (29.918451686003436, 78.1057333946228)\n",
      "-> Pointed at =  (29.918451686003436, 78.1057333946228)\n",
      "-> Pointed at =  (29.918451686003436, 78.1057333946228)\n",
      "-> Pointed at =  (29.918451686003436, 78.1057333946228)\n",
      "-> Pointed at =  (29.918451686003436, 78.1057333946228)\n",
      "-> Pointed at =  (29.917776910549506, 78.10726228123576)\n",
      "-> Pointed at =  (29.91882770706663, 78.10727301007182)\n",
      "-> Pointed at =  (29.917926343888254, 78.1057646331451)\n",
      "-> Pointed at =  (29.917679916920914, 78.10536230179287)\n",
      "-> Pointed at =  (29.917679916920914, 78.10536230179287)\n",
      "-> Pointed at =  (29.916949931570517, 78.10343647572017)\n",
      "-> Pointed at =  (29.917080120432775, 78.1018915233276)\n"
     ]
    }
   ],
   "source": [
    "fig"
   ]
  },
  {
   "cell_type": "code",
   "execution_count": 8,
   "metadata": {},
   "outputs": [],
   "source": [
    "heatmap.max_intensity = 5\n",
    "heatmap.dissipating = True\n",
    "heatmap.point_radius = 8\n",
    "heatmap.opacity = 0.7"
   ]
  },
  {
   "cell_type": "code",
   "execution_count": null,
   "metadata": {},
   "outputs": [],
   "source": []
  },
  {
   "cell_type": "markdown",
   "metadata": {},
   "source": [
    "lst = []\n",
    "\n",
    "for i in range(181):\n",
    "    \n",
    "    s = weights.iloc[i][0]\n",
    "    if len(s) == 22:\n",
    "        s = s[:-6] + \"0\" + s[-6:]\n",
    "    elif len(s) == 21:\n",
    "        s = s[:-5] + \"00\" + s[-5:]\n",
    "    lst.append(s)\n",
    "\n",
    "\n",
    "\n",
    "weights[\"New\"] = lst\n",
    "\n",
    "len(weights)\n",
    "\n",
    "weights = weights.sort_values(\"New\")\n",
    "\n",
    "weights.drop([\"New\"], axis=1, inplace=True)\n",
    "\n",
    "weights.to_csv(\"natsorted_weights.csv\")\n",
    "\n",
    "for i in range(10):\n",
    "    print(weights.iloc[i][0][11:], type(weights.iloc[i][0]))"
   ]
  },
  {
   "cell_type": "markdown",
   "metadata": {},
   "source": [
    "def get_map(path_to_csv):\n",
    "    \n",
    "    df = pd.read_csv(path_to_csv)\n",
    "    df.drop(['Unnamed: 0', 'id'], axis=1, inplace=True)\n",
    "    \n",
    "    weights = np.random.normal(loc=3, scale=2, size=len(df))\n",
    "    weights = [max(0, int(x)) for x in weights]\n",
    "    weights = [min(6, int(x)) for x in weights]\n",
    "    \n",
    "    \n",
    "    heatmap = gmaps.heatmap_layer(df, weights=weights)\n",
    "    fig = gmaps.figure()\n",
    "    fig.add_layer(heatmap)\n",
    "    return fig, heatmap\n",
    "\n",
    "fig, heatmap = get_map(\"coordinate_csvs/2.csv\")"
   ]
  }
 ],
 "metadata": {
  "colab": {
   "name": "maps.ipynb",
   "provenance": [],
   "version": "0.3.2"
  },
  "kernelspec": {
   "display_name": "Python 3",
   "language": "python",
   "name": "python3"
  },
  "language_info": {
   "codemirror_mode": {
    "name": "ipython",
    "version": 3
   },
   "file_extension": ".py",
   "mimetype": "text/x-python",
   "name": "python",
   "nbconvert_exporter": "python",
   "pygments_lexer": "ipython3",
   "version": "3.6.4"
  }
 },
 "nbformat": 4,
 "nbformat_minor": 2
}
